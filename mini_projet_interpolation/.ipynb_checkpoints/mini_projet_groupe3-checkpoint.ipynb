{
 "cells": [
  {
   "cell_type": "markdown",
   "metadata": {},
   "source": [
    "Mini-projet : Interpolation de Données Manquantes\n",
    "==============================\n",
    "\n",
    "*Contexte* : dans le cadre d'acquisition de données sismiques, des capteurs (récepteurs) sont positionnés le long d'une ligne à la surface de la terre. Chacun enregistre au cours du temps le déplacement des particules (signal oscillant) qui varie lors du passage d'une onde acoustique ou élastique. Cet enregistrement s'appelle une **trace**. Chaque trace correspond à une *colonne* de l'image presentée au début de la section 2 (une seule position spatiale, un signal qui dépend du temps).\n",
    "\n",
    "En pratique, il arrive que certains capteurs sont défaillants ou encore qu'ils ne sont pas présents dans certaines zones (pour des problèmes d'accessibilité par exemple). L'objectif principal du mini-projet est de reconstituer les traces manquantes.\n",
    "\n",
    "*Hypothèses* : nous ferons l'hypothèse importante que les **signaux d'une trace peuvent être *localement* prédits à partir d'une trace voisine, par un simple décalage temporel** (voir la partie \"Première Analyse\" pour une définition précise). \n",
    "\n",
    "*Notions abordées* : \n",
    "* Analyse des signaux dans le domain d'origine ;\n",
    "* Analyse des signaux après transformée de Fourier 2d ;\n",
    "* Régularisation et formulation sous forme de problème inverse.\n",
    "\n",
    "Pour cela, trois approches sont considerées :\n",
    "* *Approche 1* : analyse dans le domaine $(x,t)$ : identification de 3 temps et de 3 pentes, sélection d'une ondelette source, prédiction des données manquantes ;\n",
    "* *Approche 2* : transformée de Fourier 2d, identification des événements principaux, définition d'un masque et reconstitution des traces manquantes ;\n",
    "* *Approche 3* (optionelle) : suite de l'approche 2 pour s'assurer que la prédiction respecte bien les observables. Elle se fait au travers de la résolution d'un problème inverse avec ajout de régularisation.\n",
    "\n",
    "*Attentes* :\n",
    "* Développement des approches 1 et 2 sur des données fournies ici ;\n",
    "* Discusssion sur une comaparaison entre les approches 1 et 2, en particulier sur les avantages et limites des approches. Application de l'approche 1 ou 2 sur un exemple que vous pourrez créer vous-mêmes.\n",
    "\n",
    "*Consignes* :\n",
    "* **Très important** : pour toutes les figures, bien indiquer les axes avec les bonnes unités et des labels lisibles ;\n",
    "* L'approche 3 est optionnelle."
   ]
  },
  {
   "cell_type": "code",
   "execution_count": 2,
   "metadata": {
    "ExecuteTime": {
     "end_time": "2022-03-30T12:10:21.541724Z",
     "start_time": "2022-03-30T12:10:21.258126Z"
    }
   },
   "outputs": [
    {
     "ename": "ImportError",
     "evalue": "dlopen(/Users/lancrey-javal/opt/miniconda3/lib/python3.9/site-packages/PIL/_imaging.cpython-39-darwin.so, 2): Library not loaded: @rpath/libjpeg.9.dylib\n  Referenced from: /Users/lancrey-javal/opt/miniconda3/lib/python3.9/site-packages/PIL/_imaging.cpython-39-darwin.so\n  Reason: Incompatible library version: _imaging.cpython-39-darwin.so requires version 14.0.0 or later, but libjpeg.9.dylib provides version 12.0.0",
     "output_type": "error",
     "traceback": [
      "\u001b[0;31m---------------------------------------------------------------------------\u001b[0m",
      "\u001b[0;31mImportError\u001b[0m                               Traceback (most recent call last)",
      "\u001b[0;32m/var/folders/xb/bj1v214d7c5_3lwphpynj_pm0000gn/T/ipykernel_47302/3037753101.py\u001b[0m in \u001b[0;36m<module>\u001b[0;34m\u001b[0m\n\u001b[1;32m      1\u001b[0m \u001b[0;32mimport\u001b[0m \u001b[0mnumpy\u001b[0m \u001b[0;32mas\u001b[0m \u001b[0mnp\u001b[0m\u001b[0;34m\u001b[0m\u001b[0;34m\u001b[0m\u001b[0m\n\u001b[0;32m----> 2\u001b[0;31m \u001b[0;32mimport\u001b[0m \u001b[0mmatplotlib\u001b[0m\u001b[0;34m.\u001b[0m\u001b[0mpyplot\u001b[0m \u001b[0;32mas\u001b[0m \u001b[0mplt\u001b[0m\u001b[0;34m\u001b[0m\u001b[0;34m\u001b[0m\u001b[0m\n\u001b[0m\u001b[1;32m      3\u001b[0m \u001b[0;31m# Only for question 4 (optional)\u001b[0m\u001b[0;34m\u001b[0m\u001b[0;34m\u001b[0m\u001b[0;34m\u001b[0m\u001b[0m\n\u001b[1;32m      4\u001b[0m \u001b[0;32mfrom\u001b[0m \u001b[0mscipy\u001b[0m\u001b[0;34m.\u001b[0m\u001b[0moptimize\u001b[0m \u001b[0;32mimport\u001b[0m \u001b[0mminimize\u001b[0m\u001b[0;34m\u001b[0m\u001b[0;34m\u001b[0m\u001b[0m\n",
      "\u001b[0;32m~/opt/miniconda3/lib/python3.9/site-packages/matplotlib/__init__.py\u001b[0m in \u001b[0;36m<module>\u001b[0;34m\u001b[0m\n\u001b[1;32m    107\u001b[0m \u001b[0;31m# cbook must import matplotlib only within function\u001b[0m\u001b[0;34m\u001b[0m\u001b[0;34m\u001b[0m\u001b[0;34m\u001b[0m\u001b[0m\n\u001b[1;32m    108\u001b[0m \u001b[0;31m# definitions, so it is safe to import from it here.\u001b[0m\u001b[0;34m\u001b[0m\u001b[0;34m\u001b[0m\u001b[0;34m\u001b[0m\u001b[0m\n\u001b[0;32m--> 109\u001b[0;31m \u001b[0;32mfrom\u001b[0m \u001b[0;34m.\u001b[0m \u001b[0;32mimport\u001b[0m \u001b[0m_api\u001b[0m\u001b[0;34m,\u001b[0m \u001b[0m_version\u001b[0m\u001b[0;34m,\u001b[0m \u001b[0mcbook\u001b[0m\u001b[0;34m,\u001b[0m \u001b[0mdocstring\u001b[0m\u001b[0;34m,\u001b[0m \u001b[0mrcsetup\u001b[0m\u001b[0;34m\u001b[0m\u001b[0;34m\u001b[0m\u001b[0m\n\u001b[0m\u001b[1;32m    110\u001b[0m \u001b[0;32mfrom\u001b[0m \u001b[0mmatplotlib\u001b[0m\u001b[0;34m.\u001b[0m\u001b[0mcbook\u001b[0m \u001b[0;32mimport\u001b[0m \u001b[0mMatplotlibDeprecationWarning\u001b[0m\u001b[0;34m,\u001b[0m \u001b[0msanitize_sequence\u001b[0m\u001b[0;34m\u001b[0m\u001b[0;34m\u001b[0m\u001b[0m\n\u001b[1;32m    111\u001b[0m \u001b[0;32mfrom\u001b[0m \u001b[0mmatplotlib\u001b[0m\u001b[0;34m.\u001b[0m\u001b[0mcbook\u001b[0m \u001b[0;32mimport\u001b[0m \u001b[0mmplDeprecation\u001b[0m  \u001b[0;31m# deprecated\u001b[0m\u001b[0;34m\u001b[0m\u001b[0;34m\u001b[0m\u001b[0m\n",
      "\u001b[0;32m~/opt/miniconda3/lib/python3.9/site-packages/matplotlib/rcsetup.py\u001b[0m in \u001b[0;36m<module>\u001b[0;34m\u001b[0m\n\u001b[1;32m     25\u001b[0m \u001b[0;32mfrom\u001b[0m \u001b[0mmatplotlib\u001b[0m \u001b[0;32mimport\u001b[0m \u001b[0m_api\u001b[0m\u001b[0;34m,\u001b[0m \u001b[0mcbook\u001b[0m\u001b[0;34m\u001b[0m\u001b[0;34m\u001b[0m\u001b[0m\n\u001b[1;32m     26\u001b[0m \u001b[0;32mfrom\u001b[0m \u001b[0mmatplotlib\u001b[0m\u001b[0;34m.\u001b[0m\u001b[0mcbook\u001b[0m \u001b[0;32mimport\u001b[0m \u001b[0mls_mapper\u001b[0m\u001b[0;34m\u001b[0m\u001b[0;34m\u001b[0m\u001b[0m\n\u001b[0;32m---> 27\u001b[0;31m \u001b[0;32mfrom\u001b[0m \u001b[0mmatplotlib\u001b[0m\u001b[0;34m.\u001b[0m\u001b[0mcolors\u001b[0m \u001b[0;32mimport\u001b[0m \u001b[0mColormap\u001b[0m\u001b[0;34m,\u001b[0m \u001b[0mis_color_like\u001b[0m\u001b[0;34m\u001b[0m\u001b[0;34m\u001b[0m\u001b[0m\n\u001b[0m\u001b[1;32m     28\u001b[0m \u001b[0;32mfrom\u001b[0m \u001b[0mmatplotlib\u001b[0m\u001b[0;34m.\u001b[0m\u001b[0mfontconfig_pattern\u001b[0m \u001b[0;32mimport\u001b[0m \u001b[0mparse_fontconfig_pattern\u001b[0m\u001b[0;34m\u001b[0m\u001b[0;34m\u001b[0m\u001b[0m\n\u001b[1;32m     29\u001b[0m \u001b[0;32mfrom\u001b[0m \u001b[0mmatplotlib\u001b[0m\u001b[0;34m.\u001b[0m\u001b[0m_enums\u001b[0m \u001b[0;32mimport\u001b[0m \u001b[0mJoinStyle\u001b[0m\u001b[0;34m,\u001b[0m \u001b[0mCapStyle\u001b[0m\u001b[0;34m\u001b[0m\u001b[0;34m\u001b[0m\u001b[0m\n",
      "\u001b[0;32m~/opt/miniconda3/lib/python3.9/site-packages/matplotlib/colors.py\u001b[0m in \u001b[0;36m<module>\u001b[0;34m\u001b[0m\n\u001b[1;32m     49\u001b[0m \u001b[0;32mfrom\u001b[0m \u001b[0mnumbers\u001b[0m \u001b[0;32mimport\u001b[0m \u001b[0mNumber\u001b[0m\u001b[0;34m\u001b[0m\u001b[0;34m\u001b[0m\u001b[0m\n\u001b[1;32m     50\u001b[0m \u001b[0;32mimport\u001b[0m \u001b[0mre\u001b[0m\u001b[0;34m\u001b[0m\u001b[0;34m\u001b[0m\u001b[0m\n\u001b[0;32m---> 51\u001b[0;31m \u001b[0;32mfrom\u001b[0m \u001b[0mPIL\u001b[0m \u001b[0;32mimport\u001b[0m \u001b[0mImage\u001b[0m\u001b[0;34m\u001b[0m\u001b[0;34m\u001b[0m\u001b[0m\n\u001b[0m\u001b[1;32m     52\u001b[0m \u001b[0;32mfrom\u001b[0m \u001b[0mPIL\u001b[0m\u001b[0;34m.\u001b[0m\u001b[0mPngImagePlugin\u001b[0m \u001b[0;32mimport\u001b[0m \u001b[0mPngInfo\u001b[0m\u001b[0;34m\u001b[0m\u001b[0;34m\u001b[0m\u001b[0m\n\u001b[1;32m     53\u001b[0m \u001b[0;34m\u001b[0m\u001b[0m\n",
      "\u001b[0;32m~/opt/miniconda3/lib/python3.9/site-packages/PIL/Image.py\u001b[0m in \u001b[0;36m<module>\u001b[0;34m\u001b[0m\n\u001b[1;32m     87\u001b[0m     \u001b[0;31m# Also note that Image.core is not a publicly documented interface,\u001b[0m\u001b[0;34m\u001b[0m\u001b[0;34m\u001b[0m\u001b[0;34m\u001b[0m\u001b[0m\n\u001b[1;32m     88\u001b[0m     \u001b[0;31m# and should be considered private and subject to change.\u001b[0m\u001b[0;34m\u001b[0m\u001b[0;34m\u001b[0m\u001b[0;34m\u001b[0m\u001b[0m\n\u001b[0;32m---> 89\u001b[0;31m     \u001b[0;32mfrom\u001b[0m \u001b[0;34m.\u001b[0m \u001b[0;32mimport\u001b[0m \u001b[0m_imaging\u001b[0m \u001b[0;32mas\u001b[0m \u001b[0mcore\u001b[0m\u001b[0;34m\u001b[0m\u001b[0;34m\u001b[0m\u001b[0m\n\u001b[0m\u001b[1;32m     90\u001b[0m \u001b[0;34m\u001b[0m\u001b[0m\n\u001b[1;32m     91\u001b[0m     \u001b[0;32mif\u001b[0m \u001b[0m__version__\u001b[0m \u001b[0;34m!=\u001b[0m \u001b[0mgetattr\u001b[0m\u001b[0;34m(\u001b[0m\u001b[0mcore\u001b[0m\u001b[0;34m,\u001b[0m \u001b[0;34m\"PILLOW_VERSION\"\u001b[0m\u001b[0;34m,\u001b[0m \u001b[0;32mNone\u001b[0m\u001b[0;34m)\u001b[0m\u001b[0;34m:\u001b[0m\u001b[0;34m\u001b[0m\u001b[0;34m\u001b[0m\u001b[0m\n",
      "\u001b[0;31mImportError\u001b[0m: dlopen(/Users/lancrey-javal/opt/miniconda3/lib/python3.9/site-packages/PIL/_imaging.cpython-39-darwin.so, 2): Library not loaded: @rpath/libjpeg.9.dylib\n  Referenced from: /Users/lancrey-javal/opt/miniconda3/lib/python3.9/site-packages/PIL/_imaging.cpython-39-darwin.so\n  Reason: Incompatible library version: _imaging.cpython-39-darwin.so requires version 14.0.0 or later, but libjpeg.9.dylib provides version 12.0.0"
     ]
    }
   ],
   "source": [
    "import numpy as np\n",
    "import matplotlib.pyplot as plt\n",
    "# Only for question 4 (optional)\n",
    "from scipy.optimize import minimize"
   ]
  },
  {
   "cell_type": "markdown",
   "metadata": {},
   "source": [
    "**Lecture des données**"
   ]
  },
  {
   "cell_type": "code",
   "execution_count": null,
   "metadata": {
    "ExecuteTime": {
     "end_time": "2022-03-30T12:10:22.766714Z",
     "start_time": "2022-03-30T12:10:22.757070Z"
    }
   },
   "outputs": [],
   "source": [
    "# Labelsize (display)\n",
    "labelsize   = 14\n",
    "    \n",
    "# Load the input data\n",
    "# Input data (with missing traces)\n",
    "gpanel = np.load('gpanel.npy')\n",
    "# Dense data (with all traces, only for comparison)\n",
    "panel_dense = np.load('panel_dense.npy')\n",
    "nt, nx = gpanel.shape\n",
    "print(\"Dimension des panneaux (axes temps et espace):\",nt,nx)\n",
    "\n",
    "# Missing traces (index number)\n",
    "mtr = [2,5,6,11,12,20,21,22,23]\n",
    "\n",
    "# Vertical axis -- time\n",
    "dt   = 3.125e-3  # increment (s)\n",
    "at   = np.linspace(0,dt*(nt-1),nt)\n",
    "# Horizontal axis -- space\n",
    "dx   = 10. # increment (m)\n",
    "ax   = np.linspace(0,dx*(nx-1),nx)"
   ]
  },
  {
   "cell_type": "markdown",
   "metadata": {},
   "source": [
    "**Affichage des données**"
   ]
  },
  {
   "cell_type": "code",
   "execution_count": null,
   "metadata": {
    "ExecuteTime": {
     "end_time": "2022-03-30T12:10:24.817140Z",
     "start_time": "2022-03-30T12:10:24.525394Z"
    },
    "scrolled": false
   },
   "outputs": [],
   "source": [
    "# Display of the input data\n",
    "vmax    = np.max(np.abs(gpanel))\n",
    "fig = plt.figure()\n",
    "av = plt.subplot(111)\n",
    "plt.imshow(gpanel,extent=[ax[0],ax[-1],at[-1],at[0]],aspect='auto')\n",
    "plt.title('Observables (avec traces manquantes, mises à zero)', fontsize = labelsize)\n",
    "av.set_ylabel(\"Time (s)\", fontsize = labelsize)\n",
    "av.set_xlabel(\"Position x (m)\", fontsize = labelsize)\n",
    "av.tick_params(axis='both', which='major', labelsize=labelsize)\n",
    "plt.clim([-vmax,vmax])\n",
    "plt.set_cmap('bwr')\n",
    "\n",
    "fig = plt.figure()\n",
    "av = plt.subplot(111)\n",
    "plt.imshow(panel_dense,extent=[ax[0],ax[-1],at[-1],at[0]],aspect='auto')\n",
    "plt.title('Observables non disponibles (seulement pour comparaison)', fontsize = labelsize)\n",
    "av.set_ylabel(\"Time (s)\", fontsize = labelsize)\n",
    "av.set_xlabel(\"Position x (m)\", fontsize = labelsize)\n",
    "av.tick_params(axis='both', which='major', labelsize=labelsize)\n",
    "plt.clim([-vmax,vmax])\n",
    "plt.set_cmap('bwr')"
   ]
  },
  {
   "cell_type": "markdown",
   "metadata": {},
   "source": [
    "# Première Analyse\n",
    "* Dans les 2 images plus haut, 3 événements principaux ressortent. Ils sont associés à 3 temps différents (pour $x = 0$ m) et à 3 pentes différentes représentées ici :\n",
    "\n",
    "<img src=\"data.png\" width=\"400\">\n",
    "\n",
    "* Nous ferons l'hypothèse que ces événements sont linéaires, c'est-à-dire qu'il est possible de prédire une trace à une position $x$ connaissant les temps $t_i$ à la position $x_0 = 0$ m, les pentes $p_i$ et une fonction $S(t)$ appelee ondelette source  :\n",
    "$$u(t,x) \\simeq \\sum_{i=1}^{3} S(t - t_i - p_i(x-x_0))$$\n",
    "\n",
    "* Quelle est l'unité des pentes $p_i$? Donner les valeurs approximatives de ces 3 pentes $p_i$ et des 3 temps $t_i$.\n",
    "\n",
    "**Aliasing spatial**\n",
    "\n",
    "Sur l'image suivante, des événements sont visibles à gauche, avec une pente bien visible $p_1$. Sur la partie de droite de l'image, deux pentes sont identifiables $p_2$ et $p_3$. Pourtant on peut suivre des événement de gauche à droite : c'est l'effet d'aliasing spatial.\n",
    "\n",
    "<img src=\"aliasing.png\" width=\"400\">\n",
    "\n",
    "Construisez des données comme suit, avec les mêmes échantillonages temporel et spatial que sur l'exemple avec les données manquantes : \n",
    "$$d(t,x) = \\sin(2 \\pi f_c (t - p\\cdot x))$$\n",
    "$f_c$ est la fréquence caractéristique du signal (pour l'obtenir, calculer les spectres de plusieurs traces et déterminer $f_c$ comme valeur pour laquelle le spectre est en moyenne le plus grand). Tracer $d(t,x)$ pour différentes valeurs de $p$, en commençant par $p=0$. La pente visible dans les données augmente avec $p$, jusqu'à un certain moment : c'est l'effet d'aliasing spatial. Est-il possible de retrouver le cas $p=0$ pour un $p$ non nul? A partir des observations, proposer un critère à respecter pour éviter l'aliasing spatial. Ce critère est une relation entre $p$, $f_c$ et la distance $dx$ (ici 10 m) entre 2 traces consécutives. Vérifier si les pentes $p_i$ conduisent ou pas à de l'aliasing spatial."
   ]
  },
  {
   "cell_type": "markdown",
   "metadata": {},
   "source": [
    "# Approche 1 : Reconstitution des Données dans le Domaine $(x,t)$\n",
    "\n",
    "## Détermination de $S(t)$\n",
    "\n",
    "Sélectionner une trace (par exemple pour $x$ autour de 250 m et déterminer $S(t)$ avec l'hypothèse que $S(t)$ est maximale pour $t=0$. Prendre pour le support de $S$ une fenêtre de longueur autour de 0.2 s. Afficher le résultat."
   ]
  },
  {
   "cell_type": "markdown",
   "metadata": {
    "ExecuteTime": {
     "end_time": "2022-03-21T08:31:22.109149Z",
     "start_time": "2022-03-21T08:31:22.106720Z"
    }
   },
   "source": [
    "## Détermination des $(t_i,p_i)$\n",
    "\n",
    "A partir de la première trace en $x_0=0$, calculer pour plusieurs temps et pour plusieurs pentes les sommations suivantes :\n",
    "\n",
    "$$F(t,p) = \\Bigg[\\int \\,u(t-p\\cdot(x-x_0),x)\\,dx\\Bigg]^2$$\n",
    "\n",
    "A quoi correspondent les maxima de $F$? En déduire les valeurs de $(t_i,p_i)$ pour $i\\in[1,3]$. Bien choisir l'échantillonnage en temps et en pente pour une bonne détermination des $(t_i,p_i)$. \n",
    "\n",
    "Remarques :\n",
    "* Par exemple, il peut être intéressant d'interpoler linéairement entre 2 points voisins si $t - p\\cdot(x-x_0)$ ne tombe pas sur un point de grille ;\n",
    "* Pour une bonne estimation, l'échantillonnage des pentes doit être suffisament fin ;\n",
    "* Il est possible de reprendre une idée du TP \"synthèse musicale\" pour sélectionner itérativement les meilleurs $(t_i,p_i)$, mais ici en 2d.\n",
    "\n",
    "Reconstruire les données à partir de l'équation (1) et des valeurs $(t_i,p_i)$ sélectionnées. Commentez les résultats."
   ]
  },
  {
   "cell_type": "markdown",
   "metadata": {},
   "source": [
    "# Approche 2 : Analyse des Données dans le Domaine de Fourier 2d\n",
    "\n",
    "## Approche théorique\n",
    "Calculer la transformée de Fourier 2d de $u$ à partir de la transformée de Fourier 1d de $S$. Expliquer toujours à partir des équations pourquoi on s'attend à avoir 3 événements linéaires dans le domaine de Fourier. Pourquoi tous ces événements passent-ils par l'origine $(0,0)$ dans le domaine de Fourier? Donner une expression quantitative entre les pentes dans le domaine de Fourier et les pentes $p_i$. \n",
    "\n",
    "## Implémentation\n",
    "Représenter la transformée de Fourier 2d et bien préciser les axes. Indiquer à quoi correspondent la fréquence maximale et le nombre d'onde maximal. Faire le lien entre les 3 événements dans l'espace $(t,x)$ et ceux dans l'espace de Fourier. Expliquer ce qu'il se passe aux bords dans le domaine de Fourier. N'hesitez pas à zoomer autour de la position centrale dans le domaine de Fourier.\n",
    "\n",
    "Remarques : \n",
    "* Le nombre d'onde (en 1/m) est l'équivalent de la fréquence pour l'axe spatial ;\n",
    "* Le signal a très peu d'énergie pour les fréquences au-delà de 20 Hz. "
   ]
  },
  {
   "cell_type": "markdown",
   "metadata": {},
   "source": [
    "## Définition d'un masque dans le domaine de Fourier 2d\n",
    "On note $f$ la fréquence et $k_x$ le nombre d'onde. Dans le domaine de Fourier 2d, on souhaite définir un masque avec des 1 qui couvrent les événements principaux. A partir de $(f,k_x)=(0,0)$, faire des sommations selon différentes pentes (dans le domaine de Fourier, après avoir pris le module des valeurs complexes) et tracer la valeur de ces sommes en fonction de la pente. On s'attend à ce que 3 valeurs ressortent. Calculer une fonction qui sélectionne automatiquement ces valeurs et construire un masque dans le domaine de Fourier 2d qui vaut 1 autour de ces trois valeurs principales et 0 en dehors.\n",
    "\n",
    "Comment faire pour prendre en compte ce qui se passe aux bords dans le dommaine de Fourier?"
   ]
  },
  {
   "cell_type": "markdown",
   "metadata": {},
   "source": [
    "## Application du masque et analyse des résultats\n",
    "Appliquer le masque (sur les données après transformée de Fourier 2d, sans prendre le module des valeurs), puis appliquer la transformée de Fourier inverse. Commenter les résultats (comparaison à la fois dans les domaines $(t,x)$ et $(f,k_x)$. Si nécessaire, revenir à la question précédente pour changer le masque et avoir une meilleure interpolation des données. Expliquer ces changements. Discuter de l'importance du masque."
   ]
  },
  {
   "cell_type": "markdown",
   "metadata": {},
   "source": [
    "# Approche 3 : Amélioration de l'Approche 2 (*partie optionelle*)\n",
    "Le résultat de l'approche 2 montre en pratique que les données prédites après transformée de Fourier inverse 2d ne calent pas parfaitement aux données observées (pour les traces non nulles). C'est un inconvénient, mais d'un autre côté, ceci offre la possibilité d'aller plus loin pour forcer un bon calage.\n",
    "\n",
    "Pour cela, nous définissons une fonction objective\n",
    "\n",
    "$$\n",
    "J[p] = \\frac{1}{2}||T p - p^\\mathrm{obs}||_2^2 + \\frac{\\alpha}{2} || F p ||_M^2\n",
    "$$\n",
    "\n",
    "ou $p(t,x)$ sont les signaux (sur toutes les traces), $T$ l'operateur qui vaut 1 pour des traces existantes et 0 sinon, $p^\\mathrm{obs}(t,x)$ les observables (i.e. pour les traces non nulles), $F$ la transformee de Fourier 2d. La norme $||p||_2^2 = \\sum_x \\sum_t |p(t,x)|^2$ et $||q||_M^2= \\sum_x \\sum_t M(f,k_x)|q(f,k_x)|^2$, avec $M$ un masque défini dans le domaine de Fourier. Le poids $\\alpha$ est une pondération entre les deux termes.\n",
    "\n",
    "On cherche à minimiser $J$. Le meilleur $p$ sera celui qui minimise l'écart aux données (premier terme) tout en minimisant l'énergie dans le domaine de Fourier 2d (avec présence du masque). Par rapport au masque $M_0$ des questions 2 et 3, on prend ici $M=1 - M_0$. Expliquer pourquoi.\n",
    "\n",
    "La minimisation se fait de manière itérative, avec la fonction ```minimize``` de scipy (```from scipy.optimize import minimize```). Parmi plusieurs possibilités, je suggère de prendre une approche de gradient conjugué (CG). La minisation va se faire selon :\n",
    "\n",
    "```\n",
    "res = minimize(defj, p0, method='CG', jac=defg, \\\n",
    "        options={'disp': True, 'maxiter':niter})\n",
    "```\n",
    "\n",
    "Il faut donc créer une valeur initiale pour $p$ (ici ```p0```), spécifier le nombre d'itérations ```niter``` et surtour définir la fonction objective ```defj()``` et son gradient par rapport à $p$ ```defg()```.\n",
    "\n",
    "Le gradient est donné par \n",
    "\n",
    "$$\n",
    "\\frac{\\partial J}{\\partial p} = T^t(T p - p^\\mathrm{obs}) + \\alpha F^t M F p\n",
    "$$\n",
    "\n",
    "où $^t$ est l'opérateur transposé. L'application de $T^t$ correspond donc à insérer des traces nulles là où il n'y a pas d'observables et $F^t$ est la transformée de Fourier inverse.\n",
    "\n",
    "Construire les fonctions ```defj()``` et ```defg()```. Attention, ```minimize``` attend que ```p``` soit sous forme de vecteur. On peut donc utiliser ```np.transpose(p,nt*nx)``` (voir plus bas dans l'exemple).\n",
    "\n",
    "$\\alpha$ est une pondération dont la valeur est à tester.\n",
    "\n",
    "La valeur initiale ```p0``` de $p$ peut être prise égale à ```gpanel``` (le tableau lu au debut du code).\n",
    "\n",
    "Faire plusieurs itérations. Analyser les résultats à la fois dans le domaine temporel et dans le domaine de Fourier 2d. Etudier l'importance de la régulariation."
   ]
  },
  {
   "cell_type": "code",
   "execution_count": null,
   "metadata": {
    "ExecuteTime": {
     "end_time": "2022-03-30T09:57:39.049771Z",
     "start_time": "2022-03-30T09:57:39.043390Z"
    }
   },
   "outputs": [],
   "source": [
    "# Exemple de structure du code\n",
    "def defj(p):\n",
    "    \"\"\"Definition of the objective function\"\"\"\n",
    "    # Retrieve the size\n",
    "    pan = np.reshape(p,[nt,nx])\n",
    "    j0  = 0.\n",
    "    #\n",
    "    # ADD\n",
    "    #\n",
    "    return j0\n",
    "    \n",
    "    \n",
    "def defg(p):\n",
    "    \"\"\"Definition of the gradient of the objective function\"\"\"\n",
    "    # Retrieve the size\n",
    "    pan = np.reshape(p,[nt,nx])\n",
    "    grd = np.zeros([nt,nx])\n",
    "    #\n",
    "    # ADD\n",
    "    #\n",
    "    # Return with vector size\n",
    "    return np.reshape(grd,nt*nx)"
   ]
  },
  {
   "cell_type": "code",
   "execution_count": null,
   "metadata": {
    "ExecuteTime": {
     "end_time": "2022-03-30T09:57:48.879003Z",
     "start_time": "2022-03-30T09:57:48.822213Z"
    }
   },
   "outputs": [],
   "source": [
    "# Iterative mininisation (example)\n",
    "niter = 10 # number of iterations\n",
    "p0 = np.reshape(np.copy(gpanel),nt*nx)\n",
    "res = minimize(defj, p0, method='cg', \\\n",
    "                jac=defg, \\\n",
    "                options={'disp': True, 'maxiter':niter})\n",
    "# Final panel\n",
    "panelf = np.reshape(res.x,[nt,nx])"
   ]
  },
  {
   "cell_type": "markdown",
   "metadata": {},
   "source": [
    "# Analyse des Limites des Approches\n",
    "Proposer une analyse des avantages et limites des approches 1, 2 (et 3 le cas échéant). Tester la robustesse au travers de d'autres applications. Par exemple, vous pouvez :\n",
    "* Ajouter du bruit (gaussien ou non) sur les données ;\n",
    "* Avoir des événements linéaires avec des amplitudes différentes ;\n",
    "* Ajouter des délais en temps pour chaque position en $x$ et comparer les résultats ;\n",
    "* Rnlever encore plus de données en entrée (plus de traces blanches) ;\n",
    "* Application sur des images totalement différentes.\n",
    "\n",
    "**Cette dernière partie est très ouverte, et je fais appel à votre créativité.**"
   ]
  }
 ],
 "metadata": {
  "kernelspec": {
   "display_name": "Python 3 (ipykernel)",
   "language": "python",
   "name": "python3"
  },
  "language_info": {
   "codemirror_mode": {
    "name": "ipython",
    "version": 3
   },
   "file_extension": ".py",
   "mimetype": "text/x-python",
   "name": "python",
   "nbconvert_exporter": "python",
   "pygments_lexer": "ipython3",
   "version": "3.9.5"
  },
  "latex_envs": {
   "LaTeX_envs_menu_present": true,
   "autoclose": false,
   "autocomplete": true,
   "bibliofile": "biblio.bib",
   "cite_by": "apalike",
   "current_citInitial": 1,
   "eqLabelWithNumbers": true,
   "eqNumInitial": 1,
   "hotkeys": {
    "equation": "Ctrl-E",
    "itemize": "Ctrl-I"
   },
   "labels_anchors": false,
   "latex_user_defs": false,
   "report_style_numbering": false,
   "user_envs_cfg": false
  },
  "toc": {
   "base_numbering": 1,
   "nav_menu": {},
   "number_sections": true,
   "sideBar": true,
   "skip_h1_title": false,
   "title_cell": "Table of Contents",
   "title_sidebar": "Contents",
   "toc_cell": false,
   "toc_position": {},
   "toc_section_display": true,
   "toc_window_display": false
  },
  "varInspector": {
   "cols": {
    "lenName": 16,
    "lenType": 16,
    "lenVar": 40
   },
   "kernels_config": {
    "python": {
     "delete_cmd_postfix": "",
     "delete_cmd_prefix": "del ",
     "library": "var_list.py",
     "varRefreshCmd": "print(var_dic_list())"
    },
    "r": {
     "delete_cmd_postfix": ") ",
     "delete_cmd_prefix": "rm(",
     "library": "var_list.r",
     "varRefreshCmd": "cat(var_dic_list()) "
    }
   },
   "types_to_exclude": [
    "module",
    "function",
    "builtin_function_or_method",
    "instance",
    "_Feature"
   ],
   "window_display": false
  }
 },
 "nbformat": 4,
 "nbformat_minor": 2
}
